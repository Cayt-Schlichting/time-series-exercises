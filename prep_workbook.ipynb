{
 "cells": [
  {
   "cell_type": "code",
   "execution_count": 1,
   "id": "94ad5589",
   "metadata": {},
   "outputs": [],
   "source": [
    "import pandas as pd\n",
    "from datetime import timedelta, datetime\n",
    "import numpy as np\n",
    "\n",
    "import matplotlib.pyplot as plt\n",
    "\n",
    "import acquire as acq"
   ]
  },
  {
   "cell_type": "markdown",
   "id": "8ea27439",
   "metadata": {},
   "source": [
    "## Jump To:\n",
    "### [Store Data](#store)  --  [function testing](#storefunc)\n",
    "### [OPSD Data](#opsd)  --  [function testing](#opsdfunc)\n"
   ]
  },
  {
   "cell_type": "markdown",
   "id": "7fab9eaf",
   "metadata": {},
   "source": [
    "## Store Data <a class=\"anchor\" id=\"store\" />"
   ]
  },
  {
   "cell_type": "code",
   "execution_count": 2,
   "id": "a8ff7329",
   "metadata": {},
   "outputs": [],
   "source": [
    "#grab the data\n",
    "df = acq.get_HEB_data()"
   ]
  },
  {
   "cell_type": "code",
   "execution_count": 3,
   "id": "46bdc800",
   "metadata": {},
   "outputs": [
    {
     "name": "stdout",
     "output_type": "stream",
     "text": [
      "<class 'pandas.core.frame.DataFrame'>\n",
      "RangeIndex: 913000 entries, 0 to 912999\n",
      "Data columns (total 16 columns):\n",
      " #   Column         Non-Null Count   Dtype  \n",
      "---  ------         --------------   -----  \n",
      " 0   item           913000 non-null  int64  \n",
      " 1   sale_amount    913000 non-null  float64\n",
      " 2   sale_date      913000 non-null  object \n",
      " 3   sale_id        913000 non-null  int64  \n",
      " 4   store          913000 non-null  int64  \n",
      " 5   item_brand     913000 non-null  object \n",
      " 6   item_id        913000 non-null  int64  \n",
      " 7   item_name      913000 non-null  object \n",
      " 8   item_price     913000 non-null  float64\n",
      " 9   item_upc12     913000 non-null  int64  \n",
      " 10  item_upc14     913000 non-null  int64  \n",
      " 11  store_address  913000 non-null  object \n",
      " 12  store_city     913000 non-null  object \n",
      " 13  store_id       913000 non-null  int64  \n",
      " 14  store_state    913000 non-null  object \n",
      " 15  store_zipcode  913000 non-null  int64  \n",
      "dtypes: float64(2), int64(8), object(6)\n",
      "memory usage: 111.5+ MB\n"
     ]
    }
   ],
   "source": [
    "df.info()"
   ]
  },
  {
   "cell_type": "markdown",
   "id": "e7f878a2",
   "metadata": {},
   "source": [
    "##### Convert Date Column to datetime format and set as index (#1 and 3)"
   ]
  },
  {
   "cell_type": "code",
   "execution_count": 4,
   "id": "502e0206",
   "metadata": {},
   "outputs": [
    {
     "data": {
      "text/html": [
       "<div>\n",
       "<style scoped>\n",
       "    .dataframe tbody tr th:only-of-type {\n",
       "        vertical-align: middle;\n",
       "    }\n",
       "\n",
       "    .dataframe tbody tr th {\n",
       "        vertical-align: top;\n",
       "    }\n",
       "\n",
       "    .dataframe thead th {\n",
       "        text-align: right;\n",
       "    }\n",
       "</style>\n",
       "<table border=\"1\" class=\"dataframe\">\n",
       "  <thead>\n",
       "    <tr style=\"text-align: right;\">\n",
       "      <th></th>\n",
       "      <th>item</th>\n",
       "      <th>sale_amount</th>\n",
       "      <th>sale_date</th>\n",
       "      <th>sale_id</th>\n",
       "      <th>store</th>\n",
       "      <th>item_brand</th>\n",
       "      <th>item_id</th>\n",
       "      <th>item_name</th>\n",
       "      <th>item_price</th>\n",
       "      <th>item_upc12</th>\n",
       "      <th>item_upc14</th>\n",
       "      <th>store_address</th>\n",
       "      <th>store_city</th>\n",
       "      <th>store_id</th>\n",
       "      <th>store_state</th>\n",
       "      <th>store_zipcode</th>\n",
       "    </tr>\n",
       "  </thead>\n",
       "  <tbody>\n",
       "    <tr>\n",
       "      <th>0</th>\n",
       "      <td>1</td>\n",
       "      <td>13.0</td>\n",
       "      <td>Tue, 01 Jan 2013 00:00:00 GMT</td>\n",
       "      <td>1</td>\n",
       "      <td>1</td>\n",
       "      <td>Riceland</td>\n",
       "      <td>1</td>\n",
       "      <td>Riceland American Jazmine Rice</td>\n",
       "      <td>0.84</td>\n",
       "      <td>35200264013</td>\n",
       "      <td>35200264013</td>\n",
       "      <td>12125 Alamo Ranch Pkwy</td>\n",
       "      <td>San Antonio</td>\n",
       "      <td>1</td>\n",
       "      <td>TX</td>\n",
       "      <td>78253</td>\n",
       "    </tr>\n",
       "    <tr>\n",
       "      <th>1</th>\n",
       "      <td>1</td>\n",
       "      <td>11.0</td>\n",
       "      <td>Wed, 02 Jan 2013 00:00:00 GMT</td>\n",
       "      <td>2</td>\n",
       "      <td>1</td>\n",
       "      <td>Riceland</td>\n",
       "      <td>1</td>\n",
       "      <td>Riceland American Jazmine Rice</td>\n",
       "      <td>0.84</td>\n",
       "      <td>35200264013</td>\n",
       "      <td>35200264013</td>\n",
       "      <td>12125 Alamo Ranch Pkwy</td>\n",
       "      <td>San Antonio</td>\n",
       "      <td>1</td>\n",
       "      <td>TX</td>\n",
       "      <td>78253</td>\n",
       "    </tr>\n",
       "    <tr>\n",
       "      <th>2</th>\n",
       "      <td>1</td>\n",
       "      <td>14.0</td>\n",
       "      <td>Thu, 03 Jan 2013 00:00:00 GMT</td>\n",
       "      <td>3</td>\n",
       "      <td>1</td>\n",
       "      <td>Riceland</td>\n",
       "      <td>1</td>\n",
       "      <td>Riceland American Jazmine Rice</td>\n",
       "      <td>0.84</td>\n",
       "      <td>35200264013</td>\n",
       "      <td>35200264013</td>\n",
       "      <td>12125 Alamo Ranch Pkwy</td>\n",
       "      <td>San Antonio</td>\n",
       "      <td>1</td>\n",
       "      <td>TX</td>\n",
       "      <td>78253</td>\n",
       "    </tr>\n",
       "  </tbody>\n",
       "</table>\n",
       "</div>"
      ],
      "text/plain": [
       "   item  sale_amount                      sale_date  sale_id  store  \\\n",
       "0     1         13.0  Tue, 01 Jan 2013 00:00:00 GMT        1      1   \n",
       "1     1         11.0  Wed, 02 Jan 2013 00:00:00 GMT        2      1   \n",
       "2     1         14.0  Thu, 03 Jan 2013 00:00:00 GMT        3      1   \n",
       "\n",
       "  item_brand  item_id                       item_name  item_price  \\\n",
       "0   Riceland        1  Riceland American Jazmine Rice        0.84   \n",
       "1   Riceland        1  Riceland American Jazmine Rice        0.84   \n",
       "2   Riceland        1  Riceland American Jazmine Rice        0.84   \n",
       "\n",
       "    item_upc12   item_upc14           store_address   store_city  store_id  \\\n",
       "0  35200264013  35200264013  12125 Alamo Ranch Pkwy  San Antonio         1   \n",
       "1  35200264013  35200264013  12125 Alamo Ranch Pkwy  San Antonio         1   \n",
       "2  35200264013  35200264013  12125 Alamo Ranch Pkwy  San Antonio         1   \n",
       "\n",
       "  store_state  store_zipcode  \n",
       "0          TX          78253  \n",
       "1          TX          78253  \n",
       "2          TX          78253  "
      ]
     },
     "execution_count": 4,
     "metadata": {},
     "output_type": "execute_result"
    }
   ],
   "source": [
    "df.head(3)"
   ]
  },
  {
   "cell_type": "code",
   "execution_count": 5,
   "id": "7d0a7ef7",
   "metadata": {},
   "outputs": [
    {
     "data": {
      "text/html": [
       "<div>\n",
       "<style scoped>\n",
       "    .dataframe tbody tr th:only-of-type {\n",
       "        vertical-align: middle;\n",
       "    }\n",
       "\n",
       "    .dataframe tbody tr th {\n",
       "        vertical-align: top;\n",
       "    }\n",
       "\n",
       "    .dataframe thead th {\n",
       "        text-align: right;\n",
       "    }\n",
       "</style>\n",
       "<table border=\"1\" class=\"dataframe\">\n",
       "  <thead>\n",
       "    <tr style=\"text-align: right;\">\n",
       "      <th></th>\n",
       "      <th>item</th>\n",
       "      <th>sale_amount</th>\n",
       "      <th>sale_date</th>\n",
       "    </tr>\n",
       "  </thead>\n",
       "  <tbody>\n",
       "    <tr>\n",
       "      <th>0</th>\n",
       "      <td>1</td>\n",
       "      <td>13.0</td>\n",
       "      <td>Tue, 01 Jan 2013 00:00:00 GMT</td>\n",
       "    </tr>\n",
       "    <tr>\n",
       "      <th>1</th>\n",
       "      <td>1</td>\n",
       "      <td>11.0</td>\n",
       "      <td>Wed, 02 Jan 2013 00:00:00 GMT</td>\n",
       "    </tr>\n",
       "    <tr>\n",
       "      <th>2</th>\n",
       "      <td>1</td>\n",
       "      <td>14.0</td>\n",
       "      <td>Thu, 03 Jan 2013 00:00:00 GMT</td>\n",
       "    </tr>\n",
       "  </tbody>\n",
       "</table>\n",
       "</div>"
      ],
      "text/plain": [
       "   item  sale_amount                      sale_date\n",
       "0     1         13.0  Tue, 01 Jan 2013 00:00:00 GMT\n",
       "1     1         11.0  Wed, 02 Jan 2013 00:00:00 GMT\n",
       "2     1         14.0  Thu, 03 Jan 2013 00:00:00 GMT"
      ]
     },
     "execution_count": 5,
     "metadata": {},
     "output_type": "execute_result"
    }
   ],
   "source": [
    "df.iloc[0:3,0:3]"
   ]
  },
  {
   "cell_type": "code",
   "execution_count": 6,
   "id": "bd45af66",
   "metadata": {},
   "outputs": [
    {
     "data": {
      "text/plain": [
       "1.0"
      ]
     },
     "execution_count": 6,
     "metadata": {},
     "output_type": "execute_result"
    }
   ],
   "source": [
    "#See if all 00:00:00 GMT\n",
    "df.sale_date.str.endswith(\"00:00:00 GMT\").mean()"
   ]
  },
  {
   "cell_type": "code",
   "execution_count": 7,
   "id": "e85c3937",
   "metadata": {},
   "outputs": [
    {
     "data": {
      "text/plain": [
       "Timestamp('2013-01-01 00:00:00+0000', tz='GMT')"
      ]
     },
     "execution_count": 7,
     "metadata": {},
     "output_type": "execute_result"
    }
   ],
   "source": [
    "#Convert date column to datetime format - test the first row\n",
    "pd.to_datetime(\"Tue, 01 Jan 2013 00:00:00 GMT\",format=\"%a, %d %b %Y %X %Z\")"
   ]
  },
  {
   "cell_type": "code",
   "execution_count": 8,
   "id": "8c26a64f",
   "metadata": {},
   "outputs": [
    {
     "data": {
      "text/plain": [
       "Timestamp('2013-01-01 00:00:00')"
      ]
     },
     "execution_count": 8,
     "metadata": {},
     "output_type": "execute_result"
    }
   ],
   "source": [
    "#try others:\n",
    "pd.to_datetime(\"Tue, 01 Jan 2013 00:00:00 GMT\",format=\"%a, %d %b %Y 00:00:00 GMT\")"
   ]
  },
  {
   "cell_type": "code",
   "execution_count": 9,
   "id": "e573fd9e",
   "metadata": {},
   "outputs": [
    {
     "data": {
      "text/plain": [
       "16"
      ]
     },
     "execution_count": 9,
     "metadata": {},
     "output_type": "execute_result"
    }
   ],
   "source": [
    "len(\"Tue, 01 Jan 2013\")"
   ]
  },
  {
   "cell_type": "code",
   "execution_count": 10,
   "id": "1b80dda2",
   "metadata": {},
   "outputs": [
    {
     "data": {
      "text/plain": [
       "13"
      ]
     },
     "execution_count": 10,
     "metadata": {},
     "output_type": "execute_result"
    }
   ],
   "source": [
    "len(\" 00:00:00 GMT\")"
   ]
  },
  {
   "cell_type": "code",
   "execution_count": 11,
   "id": "0c289367",
   "metadata": {},
   "outputs": [
    {
     "data": {
      "text/plain": [
       "'Tue, 01 Jan 2013'"
      ]
     },
     "execution_count": 11,
     "metadata": {},
     "output_type": "execute_result"
    }
   ],
   "source": [
    "test = \"Tue, 01 Jan 2013 00:00:00 GMT\"\n",
    "test[:-13]"
   ]
  },
  {
   "cell_type": "code",
   "execution_count": 12,
   "id": "4ef85c32",
   "metadata": {},
   "outputs": [],
   "source": [
    "df.sale_date = df.sale_date.apply(lambda date: date[:-13])"
   ]
  },
  {
   "cell_type": "code",
   "execution_count": 13,
   "id": "13e978e7",
   "metadata": {},
   "outputs": [
    {
     "data": {
      "text/plain": [
       "0         Tue, 01 Jan 2013\n",
       "1         Wed, 02 Jan 2013\n",
       "2         Thu, 03 Jan 2013\n",
       "3         Fri, 04 Jan 2013\n",
       "4         Sat, 05 Jan 2013\n",
       "                ...       \n",
       "912995    Wed, 27 Dec 2017\n",
       "912996    Thu, 28 Dec 2017\n",
       "912997    Fri, 29 Dec 2017\n",
       "912998    Sat, 30 Dec 2017\n",
       "912999    Sun, 31 Dec 2017\n",
       "Name: sale_date, Length: 913000, dtype: object"
      ]
     },
     "execution_count": 13,
     "metadata": {},
     "output_type": "execute_result"
    }
   ],
   "source": [
    "df.sale_date"
   ]
  },
  {
   "cell_type": "code",
   "execution_count": 14,
   "id": "76501859",
   "metadata": {},
   "outputs": [
    {
     "name": "stdout",
     "output_type": "stream",
     "text": [
      "<class 'pandas.core.frame.DataFrame'>\n",
      "RangeIndex: 913000 entries, 0 to 912999\n",
      "Data columns (total 16 columns):\n",
      " #   Column         Non-Null Count   Dtype         \n",
      "---  ------         --------------   -----         \n",
      " 0   item           913000 non-null  int64         \n",
      " 1   sale_amount    913000 non-null  float64       \n",
      " 2   sale_date      913000 non-null  datetime64[ns]\n",
      " 3   sale_id        913000 non-null  int64         \n",
      " 4   store          913000 non-null  int64         \n",
      " 5   item_brand     913000 non-null  object        \n",
      " 6   item_id        913000 non-null  int64         \n",
      " 7   item_name      913000 non-null  object        \n",
      " 8   item_price     913000 non-null  float64       \n",
      " 9   item_upc12     913000 non-null  int64         \n",
      " 10  item_upc14     913000 non-null  int64         \n",
      " 11  store_address  913000 non-null  object        \n",
      " 12  store_city     913000 non-null  object        \n",
      " 13  store_id       913000 non-null  int64         \n",
      " 14  store_state    913000 non-null  object        \n",
      " 15  store_zipcode  913000 non-null  int64         \n",
      "dtypes: datetime64[ns](1), float64(2), int64(8), object(5)\n",
      "memory usage: 111.5+ MB\n"
     ]
    }
   ],
   "source": [
    "#Now convert column\n",
    "df.sale_date = pd.to_datetime(df.sale_date,format=\"%a, %d %b %Y\")\n",
    "\n",
    "df.info()"
   ]
  },
  {
   "cell_type": "code",
   "execution_count": 15,
   "id": "314ee6f8",
   "metadata": {},
   "outputs": [],
   "source": [
    "#set as index \n",
    "df = df.set_index('sale_date').sort_index()"
   ]
  },
  {
   "cell_type": "code",
   "execution_count": 16,
   "id": "f3329191",
   "metadata": {},
   "outputs": [
    {
     "data": {
      "text/plain": [
       "DatetimeIndex(['2013-01-01', '2013-01-01', '2013-01-01', '2013-01-01',\n",
       "               '2013-01-01', '2013-01-01', '2013-01-01', '2013-01-01',\n",
       "               '2013-01-01', '2013-01-01',\n",
       "               ...\n",
       "               '2017-12-31', '2017-12-31', '2017-12-31', '2017-12-31',\n",
       "               '2017-12-31', '2017-12-31', '2017-12-31', '2017-12-31',\n",
       "               '2017-12-31', '2017-12-31'],\n",
       "              dtype='datetime64[ns]', name='sale_date', length=913000, freq=None)"
      ]
     },
     "execution_count": 16,
     "metadata": {},
     "output_type": "execute_result"
    }
   ],
   "source": [
    "df.index"
   ]
  },
  {
   "cell_type": "markdown",
   "id": "cbb53bd1",
   "metadata": {},
   "source": [
    "##### Plot distribution of sale_amount and item_price"
   ]
  },
  {
   "cell_type": "code",
   "execution_count": 17,
   "id": "06c5799e",
   "metadata": {},
   "outputs": [
    {
     "data": {
      "text/plain": [
       "<AxesSubplot:>"
      ]
     },
     "execution_count": 17,
     "metadata": {},
     "output_type": "execute_result"
    },
    {
     "data": {
      "image/png": "[encoded data removed]",
      "text/plain": [
       "<Figure size 432x288 with 1 Axes>"
      ]
     },
     "metadata": {
      "needs_background": "light"
     },
     "output_type": "display_data"
    }
   ],
   "source": [
    "df.sale_amount.hist()"
   ]
  },
  {
   "cell_type": "code",
   "execution_count": 18,
   "id": "5fe31a46",
   "metadata": {},
   "outputs": [
    {
     "data": {
      "text/plain": [
       "<AxesSubplot:>"
      ]
     },
     "execution_count": 18,
     "metadata": {},
     "output_type": "execute_result"
    },
    {
     "data": {
      "image/png": "[encoded data removed]",
      "text/plain": [
       "<Figure size 432x288 with 1 Axes>"
      ]
     },
     "metadata": {
      "needs_background": "light"
     },
     "output_type": "display_data"
    }
   ],
   "source": [
    "df.item_price.hist()"
   ]
  },
  {
   "cell_type": "markdown",
   "id": "a7ede79b",
   "metadata": {},
   "source": [
    "##### Add a month and day of week column"
   ]
  },
  {
   "cell_type": "code",
   "execution_count": 19,
   "id": "daee9320",
   "metadata": {},
   "outputs": [],
   "source": [
    "#create month in format 01-Jan. Autosorts columns in order and allows for more user-friendly string display\n",
    "df['month'] = df.index.strftime(date_format=\"%m-%b\")\n",
    "#Do the same styel for day of week\n",
    "df['dayofweek'] = df.index.strftime(date_format=\"%w-%a\")"
   ]
  },
  {
   "cell_type": "code",
   "execution_count": 20,
   "id": "a22cc37c",
   "metadata": {},
   "outputs": [
    {
     "data": {
      "text/html": [
       "<div>\n",
       "<style scoped>\n",
       "    .dataframe tbody tr th:only-of-type {\n",
       "        vertical-align: middle;\n",
       "    }\n",
       "\n",
       "    .dataframe tbody tr th {\n",
       "        vertical-align: top;\n",
       "    }\n",
       "\n",
       "    .dataframe thead th {\n",
       "        text-align: right;\n",
       "    }\n",
       "</style>\n",
       "<table border=\"1\" class=\"dataframe\">\n",
       "  <thead>\n",
       "    <tr style=\"text-align: right;\">\n",
       "      <th></th>\n",
       "      <th>month</th>\n",
       "      <th>dayofweek</th>\n",
       "    </tr>\n",
       "    <tr>\n",
       "      <th>sale_date</th>\n",
       "      <th></th>\n",
       "      <th></th>\n",
       "    </tr>\n",
       "  </thead>\n",
       "  <tbody>\n",
       "    <tr>\n",
       "      <th>2013-01-01</th>\n",
       "      <td>01-Jan</td>\n",
       "      <td>2-Tue</td>\n",
       "    </tr>\n",
       "    <tr>\n",
       "      <th>2013-01-01</th>\n",
       "      <td>01-Jan</td>\n",
       "      <td>2-Tue</td>\n",
       "    </tr>\n",
       "    <tr>\n",
       "      <th>2013-01-01</th>\n",
       "      <td>01-Jan</td>\n",
       "      <td>2-Tue</td>\n",
       "    </tr>\n",
       "    <tr>\n",
       "      <th>2013-01-01</th>\n",
       "      <td>01-Jan</td>\n",
       "      <td>2-Tue</td>\n",
       "    </tr>\n",
       "    <tr>\n",
       "      <th>2013-01-01</th>\n",
       "      <td>01-Jan</td>\n",
       "      <td>2-Tue</td>\n",
       "    </tr>\n",
       "  </tbody>\n",
       "</table>\n",
       "</div>"
      ],
      "text/plain": [
       "             month dayofweek\n",
       "sale_date                   \n",
       "2013-01-01  01-Jan     2-Tue\n",
       "2013-01-01  01-Jan     2-Tue\n",
       "2013-01-01  01-Jan     2-Tue\n",
       "2013-01-01  01-Jan     2-Tue\n",
       "2013-01-01  01-Jan     2-Tue"
      ]
     },
     "execution_count": 20,
     "metadata": {},
     "output_type": "execute_result"
    }
   ],
   "source": [
    "df[['month','dayofweek']].head()"
   ]
  },
  {
   "cell_type": "markdown",
   "id": "4f07e002",
   "metadata": {},
   "source": [
    "##### Add a column sales_total (derived from sale_amount and item_price)"
   ]
  },
  {
   "cell_type": "code",
   "execution_count": 21,
   "id": "ad41e64d",
   "metadata": {},
   "outputs": [
    {
     "data": {
      "text/html": [
       "<div>\n",
       "<style scoped>\n",
       "    .dataframe tbody tr th:only-of-type {\n",
       "        vertical-align: middle;\n",
       "    }\n",
       "\n",
       "    .dataframe tbody tr th {\n",
       "        vertical-align: top;\n",
       "    }\n",
       "\n",
       "    .dataframe thead th {\n",
       "        text-align: right;\n",
       "    }\n",
       "</style>\n",
       "<table border=\"1\" class=\"dataframe\">\n",
       "  <thead>\n",
       "    <tr style=\"text-align: right;\">\n",
       "      <th></th>\n",
       "      <th>item</th>\n",
       "      <th>sale_amount</th>\n",
       "      <th>sale_id</th>\n",
       "      <th>store</th>\n",
       "      <th>item_brand</th>\n",
       "      <th>item_id</th>\n",
       "      <th>item_name</th>\n",
       "      <th>item_price</th>\n",
       "      <th>item_upc12</th>\n",
       "      <th>item_upc14</th>\n",
       "      <th>store_address</th>\n",
       "      <th>store_city</th>\n",
       "      <th>store_id</th>\n",
       "      <th>store_state</th>\n",
       "      <th>store_zipcode</th>\n",
       "      <th>month</th>\n",
       "      <th>dayofweek</th>\n",
       "    </tr>\n",
       "    <tr>\n",
       "      <th>sale_date</th>\n",
       "      <th></th>\n",
       "      <th></th>\n",
       "      <th></th>\n",
       "      <th></th>\n",
       "      <th></th>\n",
       "      <th></th>\n",
       "      <th></th>\n",
       "      <th></th>\n",
       "      <th></th>\n",
       "      <th></th>\n",
       "      <th></th>\n",
       "      <th></th>\n",
       "      <th></th>\n",
       "      <th></th>\n",
       "      <th></th>\n",
       "      <th></th>\n",
       "      <th></th>\n",
       "    </tr>\n",
       "  </thead>\n",
       "  <tbody>\n",
       "    <tr>\n",
       "      <th>2013-01-01</th>\n",
       "      <td>1</td>\n",
       "      <td>13.0</td>\n",
       "      <td>1</td>\n",
       "      <td>1</td>\n",
       "      <td>Riceland</td>\n",
       "      <td>1</td>\n",
       "      <td>Riceland American Jazmine Rice</td>\n",
       "      <td>0.84</td>\n",
       "      <td>35200264013</td>\n",
       "      <td>35200264013</td>\n",
       "      <td>12125 Alamo Ranch Pkwy</td>\n",
       "      <td>San Antonio</td>\n",
       "      <td>1</td>\n",
       "      <td>TX</td>\n",
       "      <td>78253</td>\n",
       "      <td>01-Jan</td>\n",
       "      <td>2-Tue</td>\n",
       "    </tr>\n",
       "    <tr>\n",
       "      <th>2013-01-01</th>\n",
       "      <td>17</td>\n",
       "      <td>26.0</td>\n",
       "      <td>295813</td>\n",
       "      <td>3</td>\n",
       "      <td>Ducal</td>\n",
       "      <td>17</td>\n",
       "      <td>Ducal Refried Red Beans</td>\n",
       "      <td>1.16</td>\n",
       "      <td>88313590791</td>\n",
       "      <td>88313590791</td>\n",
       "      <td>2118 Fredericksburg Rdj</td>\n",
       "      <td>San Antonio</td>\n",
       "      <td>3</td>\n",
       "      <td>TX</td>\n",
       "      <td>78201</td>\n",
       "      <td>01-Jan</td>\n",
       "      <td>2-Tue</td>\n",
       "    </tr>\n",
       "    <tr>\n",
       "      <th>2013-01-01</th>\n",
       "      <td>7</td>\n",
       "      <td>32.0</td>\n",
       "      <td>125995</td>\n",
       "      <td>10</td>\n",
       "      <td>Twinings Of London</td>\n",
       "      <td>7</td>\n",
       "      <td>Twinings Of London Classics Lady Grey Tea - 20 Ct</td>\n",
       "      <td>9.64</td>\n",
       "      <td>70177154004</td>\n",
       "      <td>70177154004</td>\n",
       "      <td>8503 NW Military Hwy</td>\n",
       "      <td>San Antonio</td>\n",
       "      <td>10</td>\n",
       "      <td>TX</td>\n",
       "      <td>78231</td>\n",
       "      <td>01-Jan</td>\n",
       "      <td>2-Tue</td>\n",
       "    </tr>\n",
       "    <tr>\n",
       "      <th>2013-01-01</th>\n",
       "      <td>18</td>\n",
       "      <td>45.0</td>\n",
       "      <td>314073</td>\n",
       "      <td>3</td>\n",
       "      <td>Scotch</td>\n",
       "      <td>18</td>\n",
       "      <td>Scotch Removable Clear Mounting Squares - 35 Ct</td>\n",
       "      <td>4.39</td>\n",
       "      <td>21200725340</td>\n",
       "      <td>21200725340</td>\n",
       "      <td>2118 Fredericksburg Rdj</td>\n",
       "      <td>San Antonio</td>\n",
       "      <td>3</td>\n",
       "      <td>TX</td>\n",
       "      <td>78201</td>\n",
       "      <td>01-Jan</td>\n",
       "      <td>2-Tue</td>\n",
       "    </tr>\n",
       "    <tr>\n",
       "      <th>2013-01-01</th>\n",
       "      <td>19</td>\n",
       "      <td>34.0</td>\n",
       "      <td>332333</td>\n",
       "      <td>3</td>\n",
       "      <td>Careone</td>\n",
       "      <td>19</td>\n",
       "      <td>Careone Family Comb Set - 8 Ct</td>\n",
       "      <td>0.74</td>\n",
       "      <td>41520035646</td>\n",
       "      <td>41520035646</td>\n",
       "      <td>2118 Fredericksburg Rdj</td>\n",
       "      <td>San Antonio</td>\n",
       "      <td>3</td>\n",
       "      <td>TX</td>\n",
       "      <td>78201</td>\n",
       "      <td>01-Jan</td>\n",
       "      <td>2-Tue</td>\n",
       "    </tr>\n",
       "  </tbody>\n",
       "</table>\n",
       "</div>"
      ],
      "text/plain": [
       "            item  sale_amount  sale_id  store          item_brand  item_id  \\\n",
       "sale_date                                                                    \n",
       "2013-01-01     1         13.0        1      1            Riceland        1   \n",
       "2013-01-01    17         26.0   295813      3               Ducal       17   \n",
       "2013-01-01     7         32.0   125995     10  Twinings Of London        7   \n",
       "2013-01-01    18         45.0   314073      3              Scotch       18   \n",
       "2013-01-01    19         34.0   332333      3             Careone       19   \n",
       "\n",
       "                                                    item_name  item_price  \\\n",
       "sale_date                                                                   \n",
       "2013-01-01                     Riceland American Jazmine Rice        0.84   \n",
       "2013-01-01                            Ducal Refried Red Beans        1.16   \n",
       "2013-01-01  Twinings Of London Classics Lady Grey Tea - 20 Ct        9.64   \n",
       "2013-01-01    Scotch Removable Clear Mounting Squares - 35 Ct        4.39   \n",
       "2013-01-01                     Careone Family Comb Set - 8 Ct        0.74   \n",
       "\n",
       "             item_upc12   item_upc14            store_address   store_city  \\\n",
       "sale_date                                                                    \n",
       "2013-01-01  35200264013  35200264013   12125 Alamo Ranch Pkwy  San Antonio   \n",
       "2013-01-01  88313590791  88313590791  2118 Fredericksburg Rdj  San Antonio   \n",
       "2013-01-01  70177154004  70177154004     8503 NW Military Hwy  San Antonio   \n",
       "2013-01-01  21200725340  21200725340  2118 Fredericksburg Rdj  San Antonio   \n",
       "2013-01-01  41520035646  41520035646  2118 Fredericksburg Rdj  San Antonio   \n",
       "\n",
       "            store_id store_state  store_zipcode   month dayofweek  \n",
       "sale_date                                                          \n",
       "2013-01-01         1          TX          78253  01-Jan     2-Tue  \n",
       "2013-01-01         3          TX          78201  01-Jan     2-Tue  \n",
       "2013-01-01        10          TX          78231  01-Jan     2-Tue  \n",
       "2013-01-01         3          TX          78201  01-Jan     2-Tue  \n",
       "2013-01-01         3          TX          78201  01-Jan     2-Tue  "
      ]
     },
     "execution_count": 21,
     "metadata": {},
     "output_type": "execute_result"
    }
   ],
   "source": [
    "df.head()"
   ]
  },
  {
   "cell_type": "code",
   "execution_count": 22,
   "id": "53083493",
   "metadata": {},
   "outputs": [
    {
     "data": {
      "text/plain": [
       "0.0    913000\n",
       "Name: sale_amount, dtype: int64"
      ]
     },
     "execution_count": 22,
     "metadata": {},
     "output_type": "execute_result"
    }
   ],
   "source": [
    "#Check if sale amount is always even:\n",
    "(df.sale_amount % 1).value_counts()"
   ]
  },
  {
   "cell_type": "code",
   "execution_count": 23,
   "id": "9ff600d8",
   "metadata": {},
   "outputs": [],
   "source": [
    "#^^Always even, so its a quantity, not a $ amount\n",
    "#rename sale_amount b/c that's just confusing\n",
    "df.rename(columns={'sale_amount':'quantity'},inplace=True)\n",
    "\n",
    "#create sales_total\n",
    "df['sales_total'] = df.quantity * df.item_price\n",
    "\n"
   ]
  },
  {
   "cell_type": "code",
   "execution_count": 24,
   "id": "aae01ad1",
   "metadata": {},
   "outputs": [
    {
     "data": {
      "text/plain": [
       "<AxesSubplot:>"
      ]
     },
     "execution_count": 24,
     "metadata": {},
     "output_type": "execute_result"
    },
    {
     "data": {
      "image/png": "[encoded data removed]",
      "text/plain": [
       "<Figure size 432x288 with 1 Axes>"
      ]
     },
     "metadata": {
      "needs_background": "light"
     },
     "output_type": "display_data"
    }
   ],
   "source": [
    "df.sales_total.hist()"
   ]
  },
  {
   "cell_type": "code",
   "execution_count": 25,
   "id": "265dd640",
   "metadata": {},
   "outputs": [
    {
     "data": {
      "text/plain": [
       "<AxesSubplot:>"
      ]
     },
     "execution_count": 25,
     "metadata": {},
     "output_type": "execute_result"
    },
    {
     "data": {
      "image/png": "[encoded data removed]",
      "text/plain": [
       "<Figure size 432x288 with 1 Axes>"
      ]
     },
     "metadata": {
      "needs_background": "light"
     },
     "output_type": "display_data"
    }
   ],
   "source": [
    "df.quantity.hist()"
   ]
  },
  {
   "cell_type": "markdown",
   "id": "ad148a29",
   "metadata": {},
   "source": [
    "##### Drop into a function for prepare.py"
   ]
  },
  {
   "cell_type": "code",
   "execution_count": 26,
   "id": "c5e544ac",
   "metadata": {},
   "outputs": [],
   "source": [
    "def prep_HEB_data(df):\n",
    "    #Drop the time and timezone, Convert sale date to datetime then store as index\n",
    "    df.sale_date = df.sale_date.apply(lambda date: date[:-13])\n",
    "    df.sale_date = pd.to_datetime(df.sale_date,format=\"%a, %d %b %Y\")\n",
    "    df = df.set_index('sale_date').sort_index()\n",
    "    #create month/day of week in format 01-Jan and 1-Mon. Autosorts columns in order and allows for more user-friendly string display\n",
    "    df['month'] = df.index.strftime(date_format=\"%m-%b\")\n",
    "    df['dayofweek'] = df.index.strftime(date_format=\"%w-%a\")\n",
    "    #rename sale_amount\n",
    "    df.rename(columns={'sale_amount':'quantity'},inplace=True)\n",
    "    #Calculate sale_total\n",
    "    df['sales_total'] = df.quantity * df.item_price\n",
    "    return df"
   ]
  },
  {
   "cell_type": "markdown",
   "id": "473f9ec6",
   "metadata": {},
   "source": [
    "#### Store Function Testing <a class=\"anchor\" id=\"storefunc\" />"
   ]
  },
  {
   "cell_type": "code",
   "execution_count": 27,
   "id": "2f35afd6",
   "metadata": {},
   "outputs": [],
   "source": [
    "import prepare as pr"
   ]
  },
  {
   "cell_type": "code",
   "execution_count": 28,
   "id": "c5bbedf0",
   "metadata": {},
   "outputs": [],
   "source": [
    "df2 = acq.get_HEB_data()\n",
    "df2 = prep_HEB_data(df2)"
   ]
  },
  {
   "cell_type": "code",
   "execution_count": 29,
   "id": "5146e16b",
   "metadata": {},
   "outputs": [
    {
     "name": "stdout",
     "output_type": "stream",
     "text": [
      "<class 'pandas.core.frame.DataFrame'>\n",
      "DatetimeIndex: 913000 entries, 2013-01-01 to 2017-12-31\n",
      "Data columns (total 18 columns):\n",
      " #   Column         Non-Null Count   Dtype  \n",
      "---  ------         --------------   -----  \n",
      " 0   item           913000 non-null  int64  \n",
      " 1   quantity       913000 non-null  float64\n",
      " 2   sale_id        913000 non-null  int64  \n",
      " 3   store          913000 non-null  int64  \n",
      " 4   item_brand     913000 non-null  object \n",
      " 5   item_id        913000 non-null  int64  \n",
      " 6   item_name      913000 non-null  object \n",
      " 7   item_price     913000 non-null  float64\n",
      " 8   item_upc12     913000 non-null  int64  \n",
      " 9   item_upc14     913000 non-null  int64  \n",
      " 10  store_address  913000 non-null  object \n",
      " 11  store_city     913000 non-null  object \n",
      " 12  store_id       913000 non-null  int64  \n",
      " 13  store_state    913000 non-null  object \n",
      " 14  store_zipcode  913000 non-null  int64  \n",
      " 15  month          913000 non-null  object \n",
      " 16  dayofweek      913000 non-null  object \n",
      " 17  sales_total    913000 non-null  float64\n",
      "dtypes: float64(3), int64(8), object(7)\n",
      "memory usage: 132.3+ MB\n"
     ]
    }
   ],
   "source": [
    "df2.info()"
   ]
  },
  {
   "cell_type": "code",
   "execution_count": 30,
   "id": "16c28a69",
   "metadata": {},
   "outputs": [
    {
     "data": {
      "text/html": [
       "<div>\n",
       "<style scoped>\n",
       "    .dataframe tbody tr th:only-of-type {\n",
       "        vertical-align: middle;\n",
       "    }\n",
       "\n",
       "    .dataframe tbody tr th {\n",
       "        vertical-align: top;\n",
       "    }\n",
       "\n",
       "    .dataframe thead th {\n",
       "        text-align: right;\n",
       "    }\n",
       "</style>\n",
       "<table border=\"1\" class=\"dataframe\">\n",
       "  <thead>\n",
       "    <tr style=\"text-align: right;\">\n",
       "      <th></th>\n",
       "      <th>item</th>\n",
       "      <th>quantity</th>\n",
       "      <th>sale_id</th>\n",
       "      <th>store</th>\n",
       "      <th>item_brand</th>\n",
       "      <th>item_id</th>\n",
       "      <th>item_name</th>\n",
       "      <th>item_price</th>\n",
       "      <th>item_upc12</th>\n",
       "      <th>item_upc14</th>\n",
       "      <th>store_address</th>\n",
       "      <th>store_city</th>\n",
       "      <th>store_id</th>\n",
       "      <th>store_state</th>\n",
       "      <th>store_zipcode</th>\n",
       "      <th>month</th>\n",
       "      <th>dayofweek</th>\n",
       "      <th>sales_total</th>\n",
       "    </tr>\n",
       "    <tr>\n",
       "      <th>sale_date</th>\n",
       "      <th></th>\n",
       "      <th></th>\n",
       "      <th></th>\n",
       "      <th></th>\n",
       "      <th></th>\n",
       "      <th></th>\n",
       "      <th></th>\n",
       "      <th></th>\n",
       "      <th></th>\n",
       "      <th></th>\n",
       "      <th></th>\n",
       "      <th></th>\n",
       "      <th></th>\n",
       "      <th></th>\n",
       "      <th></th>\n",
       "      <th></th>\n",
       "      <th></th>\n",
       "      <th></th>\n",
       "    </tr>\n",
       "  </thead>\n",
       "  <tbody>\n",
       "    <tr>\n",
       "      <th>2013-01-01</th>\n",
       "      <td>1</td>\n",
       "      <td>13.0</td>\n",
       "      <td>1</td>\n",
       "      <td>1</td>\n",
       "      <td>Riceland</td>\n",
       "      <td>1</td>\n",
       "      <td>Riceland American Jazmine Rice</td>\n",
       "      <td>0.84</td>\n",
       "      <td>35200264013</td>\n",
       "      <td>35200264013</td>\n",
       "      <td>12125 Alamo Ranch Pkwy</td>\n",
       "      <td>San Antonio</td>\n",
       "      <td>1</td>\n",
       "      <td>TX</td>\n",
       "      <td>78253</td>\n",
       "      <td>01-Jan</td>\n",
       "      <td>2-Tue</td>\n",
       "      <td>10.92</td>\n",
       "    </tr>\n",
       "    <tr>\n",
       "      <th>2013-01-01</th>\n",
       "      <td>17</td>\n",
       "      <td>26.0</td>\n",
       "      <td>295813</td>\n",
       "      <td>3</td>\n",
       "      <td>Ducal</td>\n",
       "      <td>17</td>\n",
       "      <td>Ducal Refried Red Beans</td>\n",
       "      <td>1.16</td>\n",
       "      <td>88313590791</td>\n",
       "      <td>88313590791</td>\n",
       "      <td>2118 Fredericksburg Rdj</td>\n",
       "      <td>San Antonio</td>\n",
       "      <td>3</td>\n",
       "      <td>TX</td>\n",
       "      <td>78201</td>\n",
       "      <td>01-Jan</td>\n",
       "      <td>2-Tue</td>\n",
       "      <td>30.16</td>\n",
       "    </tr>\n",
       "  </tbody>\n",
       "</table>\n",
       "</div>"
      ],
      "text/plain": [
       "            item  quantity  sale_id  store item_brand  item_id  \\\n",
       "sale_date                                                        \n",
       "2013-01-01     1      13.0        1      1   Riceland        1   \n",
       "2013-01-01    17      26.0   295813      3      Ducal       17   \n",
       "\n",
       "                                 item_name  item_price   item_upc12  \\\n",
       "sale_date                                                             \n",
       "2013-01-01  Riceland American Jazmine Rice        0.84  35200264013   \n",
       "2013-01-01         Ducal Refried Red Beans        1.16  88313590791   \n",
       "\n",
       "             item_upc14            store_address   store_city  store_id  \\\n",
       "sale_date                                                                 \n",
       "2013-01-01  35200264013   12125 Alamo Ranch Pkwy  San Antonio         1   \n",
       "2013-01-01  88313590791  2118 Fredericksburg Rdj  San Antonio         3   \n",
       "\n",
       "           store_state  store_zipcode   month dayofweek  sales_total  \n",
       "sale_date                                                             \n",
       "2013-01-01          TX          78253  01-Jan     2-Tue        10.92  \n",
       "2013-01-01          TX          78201  01-Jan     2-Tue        30.16  "
      ]
     },
     "execution_count": 30,
     "metadata": {},
     "output_type": "execute_result"
    }
   ],
   "source": [
    "df.head(2)"
   ]
  },
  {
   "cell_type": "markdown",
   "id": "b6ddb800",
   "metadata": {},
   "source": [
    "## OPS Data <a class=\"anchor\" id=\"opsd\" />"
   ]
  },
  {
   "cell_type": "code",
   "execution_count": 31,
   "id": "f693d6d4",
   "metadata": {},
   "outputs": [],
   "source": [
    "df = acq.get_OPSD_data()"
   ]
  },
  {
   "cell_type": "code",
   "execution_count": 32,
   "id": "c68c391c",
   "metadata": {},
   "outputs": [
    {
     "name": "stdout",
     "output_type": "stream",
     "text": [
      "<class 'pandas.core.frame.DataFrame'>\n",
      "RangeIndex: 4383 entries, 0 to 4382\n",
      "Data columns (total 5 columns):\n",
      " #   Column       Non-Null Count  Dtype  \n",
      "---  ------       --------------  -----  \n",
      " 0   Date         4383 non-null   object \n",
      " 1   Consumption  4383 non-null   float64\n",
      " 2   Wind         2920 non-null   float64\n",
      " 3   Solar        2188 non-null   float64\n",
      " 4   Wind+Solar   2187 non-null   float64\n",
      "dtypes: float64(4), object(1)\n",
      "memory usage: 171.3+ KB\n"
     ]
    }
   ],
   "source": [
    "df.info()"
   ]
  },
  {
   "cell_type": "code",
   "execution_count": 33,
   "id": "8258570f",
   "metadata": {},
   "outputs": [
    {
     "data": {
      "text/html": [
       "<div>\n",
       "<style scoped>\n",
       "    .dataframe tbody tr th:only-of-type {\n",
       "        vertical-align: middle;\n",
       "    }\n",
       "\n",
       "    .dataframe tbody tr th {\n",
       "        vertical-align: top;\n",
       "    }\n",
       "\n",
       "    .dataframe thead th {\n",
       "        text-align: right;\n",
       "    }\n",
       "</style>\n",
       "<table border=\"1\" class=\"dataframe\">\n",
       "  <thead>\n",
       "    <tr style=\"text-align: right;\">\n",
       "      <th></th>\n",
       "      <th>Date</th>\n",
       "      <th>Consumption</th>\n",
       "      <th>Wind</th>\n",
       "      <th>Solar</th>\n",
       "      <th>Wind+Solar</th>\n",
       "    </tr>\n",
       "  </thead>\n",
       "  <tbody>\n",
       "    <tr>\n",
       "      <th>0</th>\n",
       "      <td>2006-01-01</td>\n",
       "      <td>1069.184</td>\n",
       "      <td>NaN</td>\n",
       "      <td>NaN</td>\n",
       "      <td>NaN</td>\n",
       "    </tr>\n",
       "    <tr>\n",
       "      <th>1</th>\n",
       "      <td>2006-01-02</td>\n",
       "      <td>1380.521</td>\n",
       "      <td>NaN</td>\n",
       "      <td>NaN</td>\n",
       "      <td>NaN</td>\n",
       "    </tr>\n",
       "  </tbody>\n",
       "</table>\n",
       "</div>"
      ],
      "text/plain": [
       "         Date  Consumption  Wind  Solar  Wind+Solar\n",
       "0  2006-01-01     1069.184   NaN    NaN         NaN\n",
       "1  2006-01-02     1380.521   NaN    NaN         NaN"
      ]
     },
     "execution_count": 33,
     "metadata": {},
     "output_type": "execute_result"
    }
   ],
   "source": [
    "df.head(2)"
   ]
  },
  {
   "cell_type": "markdown",
   "id": "37dc5467",
   "metadata": {},
   "source": [
    "##### Plot distribution of variables"
   ]
  },
  {
   "cell_type": "code",
   "execution_count": 34,
   "id": "36435817",
   "metadata": {},
   "outputs": [
    {
     "data": {
      "image/png": "[encoded data removed]",
      "text/plain": [
       "<Figure size 720x720 with 4 Axes>"
      ]
     },
     "metadata": {
      "needs_background": "light"
     },
     "output_type": "display_data"
    }
   ],
   "source": [
    "plt.figure(figsize=(10,10))\n",
    "ct=0\n",
    "for c in df.columns[1:]:\n",
    "    ct+=1\n",
    "    plt.subplot(2,2,ct)\n",
    "    df[c].hist()\n",
    "    plt.title(c)\n"
   ]
  },
  {
   "cell_type": "markdown",
   "id": "15041346",
   "metadata": {},
   "source": [
    "##### Convert date to datetime format and set as index"
   ]
  },
  {
   "cell_type": "code",
   "execution_count": 35,
   "id": "08f7a6ba",
   "metadata": {},
   "outputs": [
    {
     "data": {
      "text/plain": [
       "0       2006-01-01\n",
       "1       2006-01-02\n",
       "2       2006-01-03\n",
       "3       2006-01-04\n",
       "4       2006-01-05\n",
       "           ...    \n",
       "4378    2017-12-27\n",
       "4379    2017-12-28\n",
       "4380    2017-12-29\n",
       "4381    2017-12-30\n",
       "4382    2017-12-31\n",
       "Name: Date, Length: 4383, dtype: object"
      ]
     },
     "execution_count": 35,
     "metadata": {},
     "output_type": "execute_result"
    }
   ],
   "source": [
    "#check month/day order\n",
    "df.Date"
   ]
  },
  {
   "cell_type": "code",
   "execution_count": 36,
   "id": "b9581738",
   "metadata": {},
   "outputs": [],
   "source": [
    "df.Date = pd.to_datetime(df.Date,format=\"%Y-%m-%d\")\n",
    "df = df.set_index('Date').sort_index()"
   ]
  },
  {
   "cell_type": "code",
   "execution_count": 37,
   "id": "98359464",
   "metadata": {},
   "outputs": [
    {
     "data": {
      "text/html": [
       "<div>\n",
       "<style scoped>\n",
       "    .dataframe tbody tr th:only-of-type {\n",
       "        vertical-align: middle;\n",
       "    }\n",
       "\n",
       "    .dataframe tbody tr th {\n",
       "        vertical-align: top;\n",
       "    }\n",
       "\n",
       "    .dataframe thead th {\n",
       "        text-align: right;\n",
       "    }\n",
       "</style>\n",
       "<table border=\"1\" class=\"dataframe\">\n",
       "  <thead>\n",
       "    <tr style=\"text-align: right;\">\n",
       "      <th></th>\n",
       "      <th>Consumption</th>\n",
       "      <th>Wind</th>\n",
       "      <th>Solar</th>\n",
       "      <th>Wind+Solar</th>\n",
       "    </tr>\n",
       "    <tr>\n",
       "      <th>Date</th>\n",
       "      <th></th>\n",
       "      <th></th>\n",
       "      <th></th>\n",
       "      <th></th>\n",
       "    </tr>\n",
       "  </thead>\n",
       "  <tbody>\n",
       "    <tr>\n",
       "      <th>2006-01-01</th>\n",
       "      <td>1069.184</td>\n",
       "      <td>NaN</td>\n",
       "      <td>NaN</td>\n",
       "      <td>NaN</td>\n",
       "    </tr>\n",
       "    <tr>\n",
       "      <th>2006-01-02</th>\n",
       "      <td>1380.521</td>\n",
       "      <td>NaN</td>\n",
       "      <td>NaN</td>\n",
       "      <td>NaN</td>\n",
       "    </tr>\n",
       "    <tr>\n",
       "      <th>2006-01-03</th>\n",
       "      <td>1442.533</td>\n",
       "      <td>NaN</td>\n",
       "      <td>NaN</td>\n",
       "      <td>NaN</td>\n",
       "    </tr>\n",
       "    <tr>\n",
       "      <th>2006-01-04</th>\n",
       "      <td>1457.217</td>\n",
       "      <td>NaN</td>\n",
       "      <td>NaN</td>\n",
       "      <td>NaN</td>\n",
       "    </tr>\n",
       "    <tr>\n",
       "      <th>2006-01-05</th>\n",
       "      <td>1477.131</td>\n",
       "      <td>NaN</td>\n",
       "      <td>NaN</td>\n",
       "      <td>NaN</td>\n",
       "    </tr>\n",
       "  </tbody>\n",
       "</table>\n",
       "</div>"
      ],
      "text/plain": [
       "            Consumption  Wind  Solar  Wind+Solar\n",
       "Date                                            \n",
       "2006-01-01     1069.184   NaN    NaN         NaN\n",
       "2006-01-02     1380.521   NaN    NaN         NaN\n",
       "2006-01-03     1442.533   NaN    NaN         NaN\n",
       "2006-01-04     1457.217   NaN    NaN         NaN\n",
       "2006-01-05     1477.131   NaN    NaN         NaN"
      ]
     },
     "execution_count": 37,
     "metadata": {},
     "output_type": "execute_result"
    }
   ],
   "source": [
    "df.head()"
   ]
  },
  {
   "cell_type": "markdown",
   "id": "45582a72",
   "metadata": {},
   "source": [
    "##### Add a month and year column"
   ]
  },
  {
   "cell_type": "code",
   "execution_count": 38,
   "id": "db6c3d50",
   "metadata": {},
   "outputs": [],
   "source": [
    "df['month'] = df.index.strftime(date_format=\"%m-%b\")\n",
    "df['year'] = df.index.year"
   ]
  },
  {
   "cell_type": "code",
   "execution_count": 39,
   "id": "7e96db7b",
   "metadata": {},
   "outputs": [
    {
     "data": {
      "text/html": [
       "<div>\n",
       "<style scoped>\n",
       "    .dataframe tbody tr th:only-of-type {\n",
       "        vertical-align: middle;\n",
       "    }\n",
       "\n",
       "    .dataframe tbody tr th {\n",
       "        vertical-align: top;\n",
       "    }\n",
       "\n",
       "    .dataframe thead th {\n",
       "        text-align: right;\n",
       "    }\n",
       "</style>\n",
       "<table border=\"1\" class=\"dataframe\">\n",
       "  <thead>\n",
       "    <tr style=\"text-align: right;\">\n",
       "      <th></th>\n",
       "      <th>Consumption</th>\n",
       "      <th>Wind</th>\n",
       "      <th>Solar</th>\n",
       "      <th>Wind+Solar</th>\n",
       "      <th>month</th>\n",
       "      <th>year</th>\n",
       "    </tr>\n",
       "    <tr>\n",
       "      <th>Date</th>\n",
       "      <th></th>\n",
       "      <th></th>\n",
       "      <th></th>\n",
       "      <th></th>\n",
       "      <th></th>\n",
       "      <th></th>\n",
       "    </tr>\n",
       "  </thead>\n",
       "  <tbody>\n",
       "    <tr>\n",
       "      <th>2006-01-01</th>\n",
       "      <td>1069.184</td>\n",
       "      <td>NaN</td>\n",
       "      <td>NaN</td>\n",
       "      <td>NaN</td>\n",
       "      <td>01-Jan</td>\n",
       "      <td>2006</td>\n",
       "    </tr>\n",
       "    <tr>\n",
       "      <th>2006-01-02</th>\n",
       "      <td>1380.521</td>\n",
       "      <td>NaN</td>\n",
       "      <td>NaN</td>\n",
       "      <td>NaN</td>\n",
       "      <td>01-Jan</td>\n",
       "      <td>2006</td>\n",
       "    </tr>\n",
       "    <tr>\n",
       "      <th>2006-01-03</th>\n",
       "      <td>1442.533</td>\n",
       "      <td>NaN</td>\n",
       "      <td>NaN</td>\n",
       "      <td>NaN</td>\n",
       "      <td>01-Jan</td>\n",
       "      <td>2006</td>\n",
       "    </tr>\n",
       "  </tbody>\n",
       "</table>\n",
       "</div>"
      ],
      "text/plain": [
       "            Consumption  Wind  Solar  Wind+Solar   month  year\n",
       "Date                                                          \n",
       "2006-01-01     1069.184   NaN    NaN         NaN  01-Jan  2006\n",
       "2006-01-02     1380.521   NaN    NaN         NaN  01-Jan  2006\n",
       "2006-01-03     1442.533   NaN    NaN         NaN  01-Jan  2006"
      ]
     },
     "execution_count": 39,
     "metadata": {},
     "output_type": "execute_result"
    }
   ],
   "source": [
    "df.head(3)"
   ]
  },
  {
   "cell_type": "markdown",
   "id": "38951fc8",
   "metadata": {},
   "source": [
    "##### Fill missing values"
   ]
  },
  {
   "cell_type": "code",
   "execution_count": 40,
   "id": "c98d30c9",
   "metadata": {},
   "outputs": [],
   "source": [
    "#Eww, rename wind+Solar\n",
    "df.rename(columns={\"Wind+Solar\":\"wind_solar\",\"Wind\":\"wind\",\"Solar\":\"solar\"},inplace=True)"
   ]
  },
  {
   "cell_type": "code",
   "execution_count": 41,
   "id": "2b96b037",
   "metadata": {},
   "outputs": [
    {
     "data": {
      "text/plain": [
       "<AxesSubplot:xlabel='Date'>"
      ]
     },
     "execution_count": 41,
     "metadata": {},
     "output_type": "execute_result"
    },
    {
     "data": {
      "image/png": "[encoded data removed]",
      "text/plain": [
       "<Figure size 432x288 with 1 Axes>"
      ]
     },
     "metadata": {
      "needs_background": "light"
     },
     "output_type": "display_data"
    }
   ],
   "source": [
    "df.wind.plot()"
   ]
  },
  {
   "cell_type": "code",
   "execution_count": 42,
   "id": "d6770096",
   "metadata": {},
   "outputs": [
    {
     "data": {
      "text/plain": [
       "<AxesSubplot:xlabel='Date'>"
      ]
     },
     "execution_count": 42,
     "metadata": {},
     "output_type": "execute_result"
    },
    {
     "data": {
      "image/png": "[encoded data removed]",
      "text/plain": [
       "<Figure size 432x288 with 1 Axes>"
      ]
     },
     "metadata": {
      "needs_background": "light"
     },
     "output_type": "display_data"
    }
   ],
   "source": [
    "df.solar.plot()"
   ]
  },
  {
   "cell_type": "code",
   "execution_count": 43,
   "id": "319154d2",
   "metadata": {},
   "outputs": [
    {
     "data": {
      "text/plain": [
       "<AxesSubplot:xlabel='Date'>"
      ]
     },
     "execution_count": 43,
     "metadata": {},
     "output_type": "execute_result"
    },
    {
     "data": {
      "image/png": "[encoded data removed]",
      "text/plain": [
       "<Figure size 432x288 with 1 Axes>"
      ]
     },
     "metadata": {
      "needs_background": "light"
     },
     "output_type": "display_data"
    }
   ],
   "source": [
    "df.wind_solar.plot()"
   ]
  },
  {
   "cell_type": "markdown",
   "id": "fc360d54",
   "metadata": {},
   "source": [
    "It looks like wind and solar may have nulls before those resources existed.  It also appears that wind+solar was only populated once both resources existed.  Checking a bit of that"
   ]
  },
  {
   "cell_type": "code",
   "execution_count": 44,
   "id": "14d9ae71",
   "metadata": {},
   "outputs": [
    {
     "data": {
      "text/html": [
       "<div>\n",
       "<style scoped>\n",
       "    .dataframe tbody tr th:only-of-type {\n",
       "        vertical-align: middle;\n",
       "    }\n",
       "\n",
       "    .dataframe tbody tr th {\n",
       "        vertical-align: top;\n",
       "    }\n",
       "\n",
       "    .dataframe thead th {\n",
       "        text-align: right;\n",
       "    }\n",
       "</style>\n",
       "<table border=\"1\" class=\"dataframe\">\n",
       "  <thead>\n",
       "    <tr style=\"text-align: right;\">\n",
       "      <th></th>\n",
       "      <th>Consumption</th>\n",
       "      <th>wind</th>\n",
       "      <th>solar</th>\n",
       "      <th>wind_solar</th>\n",
       "      <th>month</th>\n",
       "      <th>year</th>\n",
       "    </tr>\n",
       "    <tr>\n",
       "      <th>Date</th>\n",
       "      <th></th>\n",
       "      <th></th>\n",
       "      <th></th>\n",
       "      <th></th>\n",
       "      <th></th>\n",
       "      <th></th>\n",
       "    </tr>\n",
       "  </thead>\n",
       "  <tbody>\n",
       "    <tr>\n",
       "      <th>2009-12-29</th>\n",
       "      <td>1207.905</td>\n",
       "      <td>NaN</td>\n",
       "      <td>NaN</td>\n",
       "      <td>NaN</td>\n",
       "      <td>12-Dec</td>\n",
       "      <td>2009</td>\n",
       "    </tr>\n",
       "    <tr>\n",
       "      <th>2009-12-30</th>\n",
       "      <td>1192.196</td>\n",
       "      <td>NaN</td>\n",
       "      <td>NaN</td>\n",
       "      <td>NaN</td>\n",
       "      <td>12-Dec</td>\n",
       "      <td>2009</td>\n",
       "    </tr>\n",
       "    <tr>\n",
       "      <th>2009-12-31</th>\n",
       "      <td>1106.467</td>\n",
       "      <td>NaN</td>\n",
       "      <td>NaN</td>\n",
       "      <td>NaN</td>\n",
       "      <td>12-Dec</td>\n",
       "      <td>2009</td>\n",
       "    </tr>\n",
       "    <tr>\n",
       "      <th>2011-12-14</th>\n",
       "      <td>1531.311</td>\n",
       "      <td>NaN</td>\n",
       "      <td>NaN</td>\n",
       "      <td>NaN</td>\n",
       "      <td>12-Dec</td>\n",
       "      <td>2011</td>\n",
       "    </tr>\n",
       "    <tr>\n",
       "      <th>2014-03-12</th>\n",
       "      <td>1516.331</td>\n",
       "      <td>NaN</td>\n",
       "      <td>148.507</td>\n",
       "      <td>NaN</td>\n",
       "      <td>03-Mar</td>\n",
       "      <td>2014</td>\n",
       "    </tr>\n",
       "  </tbody>\n",
       "</table>\n",
       "</div>"
      ],
      "text/plain": [
       "            Consumption  wind    solar  wind_solar   month  year\n",
       "Date                                                            \n",
       "2009-12-29     1207.905   NaN      NaN         NaN  12-Dec  2009\n",
       "2009-12-30     1192.196   NaN      NaN         NaN  12-Dec  2009\n",
       "2009-12-31     1106.467   NaN      NaN         NaN  12-Dec  2009\n",
       "2011-12-14     1531.311   NaN      NaN         NaN  12-Dec  2011\n",
       "2014-03-12     1516.331   NaN  148.507         NaN  03-Mar  2014"
      ]
     },
     "execution_count": 44,
     "metadata": {},
     "output_type": "execute_result"
    }
   ],
   "source": [
    "df[df.wind.isna()].tail()"
   ]
  },
  {
   "cell_type": "code",
   "execution_count": 45,
   "id": "791a33b0",
   "metadata": {},
   "outputs": [
    {
     "data": {
      "text/html": [
       "<div>\n",
       "<style scoped>\n",
       "    .dataframe tbody tr th:only-of-type {\n",
       "        vertical-align: middle;\n",
       "    }\n",
       "\n",
       "    .dataframe tbody tr th {\n",
       "        vertical-align: top;\n",
       "    }\n",
       "\n",
       "    .dataframe thead th {\n",
       "        text-align: right;\n",
       "    }\n",
       "</style>\n",
       "<table border=\"1\" class=\"dataframe\">\n",
       "  <thead>\n",
       "    <tr style=\"text-align: right;\">\n",
       "      <th></th>\n",
       "      <th>Consumption</th>\n",
       "      <th>wind</th>\n",
       "      <th>solar</th>\n",
       "      <th>wind_solar</th>\n",
       "      <th>month</th>\n",
       "      <th>year</th>\n",
       "    </tr>\n",
       "    <tr>\n",
       "      <th>Date</th>\n",
       "      <th></th>\n",
       "      <th></th>\n",
       "      <th></th>\n",
       "      <th></th>\n",
       "      <th></th>\n",
       "      <th></th>\n",
       "    </tr>\n",
       "  </thead>\n",
       "  <tbody>\n",
       "    <tr>\n",
       "      <th>2011-12-26</th>\n",
       "      <td>1010.596</td>\n",
       "      <td>259.368</td>\n",
       "      <td>NaN</td>\n",
       "      <td>NaN</td>\n",
       "      <td>12-Dec</td>\n",
       "      <td>2011</td>\n",
       "    </tr>\n",
       "    <tr>\n",
       "      <th>2011-12-27</th>\n",
       "      <td>1206.980</td>\n",
       "      <td>153.273</td>\n",
       "      <td>NaN</td>\n",
       "      <td>NaN</td>\n",
       "      <td>12-Dec</td>\n",
       "      <td>2011</td>\n",
       "    </tr>\n",
       "    <tr>\n",
       "      <th>2011-12-28</th>\n",
       "      <td>1216.645</td>\n",
       "      <td>206.874</td>\n",
       "      <td>NaN</td>\n",
       "      <td>NaN</td>\n",
       "      <td>12-Dec</td>\n",
       "      <td>2011</td>\n",
       "    </tr>\n",
       "    <tr>\n",
       "      <th>2011-12-29</th>\n",
       "      <td>1226.888</td>\n",
       "      <td>415.505</td>\n",
       "      <td>NaN</td>\n",
       "      <td>NaN</td>\n",
       "      <td>12-Dec</td>\n",
       "      <td>2011</td>\n",
       "    </tr>\n",
       "    <tr>\n",
       "      <th>2011-12-30</th>\n",
       "      <td>1199.866</td>\n",
       "      <td>251.088</td>\n",
       "      <td>NaN</td>\n",
       "      <td>NaN</td>\n",
       "      <td>12-Dec</td>\n",
       "      <td>2011</td>\n",
       "    </tr>\n",
       "    <tr>\n",
       "      <th>2011-12-31</th>\n",
       "      <td>1077.625</td>\n",
       "      <td>83.185</td>\n",
       "      <td>NaN</td>\n",
       "      <td>NaN</td>\n",
       "      <td>12-Dec</td>\n",
       "      <td>2011</td>\n",
       "    </tr>\n",
       "    <tr>\n",
       "      <th>2013-03-30</th>\n",
       "      <td>1092.932</td>\n",
       "      <td>20.545</td>\n",
       "      <td>NaN</td>\n",
       "      <td>NaN</td>\n",
       "      <td>03-Mar</td>\n",
       "      <td>2013</td>\n",
       "    </tr>\n",
       "    <tr>\n",
       "      <th>2013-03-31</th>\n",
       "      <td>1002.856</td>\n",
       "      <td>39.624</td>\n",
       "      <td>NaN</td>\n",
       "      <td>NaN</td>\n",
       "      <td>03-Mar</td>\n",
       "      <td>2013</td>\n",
       "    </tr>\n",
       "    <tr>\n",
       "      <th>2014-03-29</th>\n",
       "      <td>1243.377</td>\n",
       "      <td>68.398</td>\n",
       "      <td>NaN</td>\n",
       "      <td>NaN</td>\n",
       "      <td>03-Mar</td>\n",
       "      <td>2014</td>\n",
       "    </tr>\n",
       "    <tr>\n",
       "      <th>2014-03-30</th>\n",
       "      <td>1125.085</td>\n",
       "      <td>18.572</td>\n",
       "      <td>NaN</td>\n",
       "      <td>NaN</td>\n",
       "      <td>03-Mar</td>\n",
       "      <td>2014</td>\n",
       "    </tr>\n",
       "  </tbody>\n",
       "</table>\n",
       "</div>"
      ],
      "text/plain": [
       "            Consumption     wind  solar  wind_solar   month  year\n",
       "Date                                                             \n",
       "2011-12-26     1010.596  259.368    NaN         NaN  12-Dec  2011\n",
       "2011-12-27     1206.980  153.273    NaN         NaN  12-Dec  2011\n",
       "2011-12-28     1216.645  206.874    NaN         NaN  12-Dec  2011\n",
       "2011-12-29     1226.888  415.505    NaN         NaN  12-Dec  2011\n",
       "2011-12-30     1199.866  251.088    NaN         NaN  12-Dec  2011\n",
       "2011-12-31     1077.625   83.185    NaN         NaN  12-Dec  2011\n",
       "2013-03-30     1092.932   20.545    NaN         NaN  03-Mar  2013\n",
       "2013-03-31     1002.856   39.624    NaN         NaN  03-Mar  2013\n",
       "2014-03-29     1243.377   68.398    NaN         NaN  03-Mar  2014\n",
       "2014-03-30     1125.085   18.572    NaN         NaN  03-Mar  2014"
      ]
     },
     "execution_count": 45,
     "metadata": {},
     "output_type": "execute_result"
    }
   ],
   "source": [
    "df[df.solar.isna()].tail(10)"
   ]
  },
  {
   "cell_type": "code",
   "execution_count": 46,
   "id": "2ca9a0f5",
   "metadata": {},
   "outputs": [
    {
     "data": {
      "text/html": [
       "<div>\n",
       "<style scoped>\n",
       "    .dataframe tbody tr th:only-of-type {\n",
       "        vertical-align: middle;\n",
       "    }\n",
       "\n",
       "    .dataframe tbody tr th {\n",
       "        vertical-align: top;\n",
       "    }\n",
       "\n",
       "    .dataframe thead th {\n",
       "        text-align: right;\n",
       "    }\n",
       "</style>\n",
       "<table border=\"1\" class=\"dataframe\">\n",
       "  <thead>\n",
       "    <tr style=\"text-align: right;\">\n",
       "      <th></th>\n",
       "      <th>Consumption</th>\n",
       "      <th>wind</th>\n",
       "      <th>solar</th>\n",
       "      <th>wind_solar</th>\n",
       "      <th>month</th>\n",
       "      <th>year</th>\n",
       "    </tr>\n",
       "    <tr>\n",
       "      <th>Date</th>\n",
       "      <th></th>\n",
       "      <th></th>\n",
       "      <th></th>\n",
       "      <th></th>\n",
       "      <th></th>\n",
       "      <th></th>\n",
       "    </tr>\n",
       "  </thead>\n",
       "  <tbody>\n",
       "    <tr>\n",
       "      <th>2011-12-27</th>\n",
       "      <td>1206.980</td>\n",
       "      <td>153.273</td>\n",
       "      <td>NaN</td>\n",
       "      <td>NaN</td>\n",
       "      <td>12-Dec</td>\n",
       "      <td>2011</td>\n",
       "    </tr>\n",
       "    <tr>\n",
       "      <th>2011-12-28</th>\n",
       "      <td>1216.645</td>\n",
       "      <td>206.874</td>\n",
       "      <td>NaN</td>\n",
       "      <td>NaN</td>\n",
       "      <td>12-Dec</td>\n",
       "      <td>2011</td>\n",
       "    </tr>\n",
       "    <tr>\n",
       "      <th>2011-12-29</th>\n",
       "      <td>1226.888</td>\n",
       "      <td>415.505</td>\n",
       "      <td>NaN</td>\n",
       "      <td>NaN</td>\n",
       "      <td>12-Dec</td>\n",
       "      <td>2011</td>\n",
       "    </tr>\n",
       "    <tr>\n",
       "      <th>2011-12-30</th>\n",
       "      <td>1199.866</td>\n",
       "      <td>251.088</td>\n",
       "      <td>NaN</td>\n",
       "      <td>NaN</td>\n",
       "      <td>12-Dec</td>\n",
       "      <td>2011</td>\n",
       "    </tr>\n",
       "    <tr>\n",
       "      <th>2011-12-31</th>\n",
       "      <td>1077.625</td>\n",
       "      <td>83.185</td>\n",
       "      <td>NaN</td>\n",
       "      <td>NaN</td>\n",
       "      <td>12-Dec</td>\n",
       "      <td>2011</td>\n",
       "    </tr>\n",
       "    <tr>\n",
       "      <th>2013-03-30</th>\n",
       "      <td>1092.932</td>\n",
       "      <td>20.545</td>\n",
       "      <td>NaN</td>\n",
       "      <td>NaN</td>\n",
       "      <td>03-Mar</td>\n",
       "      <td>2013</td>\n",
       "    </tr>\n",
       "    <tr>\n",
       "      <th>2013-03-31</th>\n",
       "      <td>1002.856</td>\n",
       "      <td>39.624</td>\n",
       "      <td>NaN</td>\n",
       "      <td>NaN</td>\n",
       "      <td>03-Mar</td>\n",
       "      <td>2013</td>\n",
       "    </tr>\n",
       "    <tr>\n",
       "      <th>2014-03-12</th>\n",
       "      <td>1516.331</td>\n",
       "      <td>NaN</td>\n",
       "      <td>148.507</td>\n",
       "      <td>NaN</td>\n",
       "      <td>03-Mar</td>\n",
       "      <td>2014</td>\n",
       "    </tr>\n",
       "    <tr>\n",
       "      <th>2014-03-29</th>\n",
       "      <td>1243.377</td>\n",
       "      <td>68.398</td>\n",
       "      <td>NaN</td>\n",
       "      <td>NaN</td>\n",
       "      <td>03-Mar</td>\n",
       "      <td>2014</td>\n",
       "    </tr>\n",
       "    <tr>\n",
       "      <th>2014-03-30</th>\n",
       "      <td>1125.085</td>\n",
       "      <td>18.572</td>\n",
       "      <td>NaN</td>\n",
       "      <td>NaN</td>\n",
       "      <td>03-Mar</td>\n",
       "      <td>2014</td>\n",
       "    </tr>\n",
       "  </tbody>\n",
       "</table>\n",
       "</div>"
      ],
      "text/plain": [
       "            Consumption     wind    solar  wind_solar   month  year\n",
       "Date                                                               \n",
       "2011-12-27     1206.980  153.273      NaN         NaN  12-Dec  2011\n",
       "2011-12-28     1216.645  206.874      NaN         NaN  12-Dec  2011\n",
       "2011-12-29     1226.888  415.505      NaN         NaN  12-Dec  2011\n",
       "2011-12-30     1199.866  251.088      NaN         NaN  12-Dec  2011\n",
       "2011-12-31     1077.625   83.185      NaN         NaN  12-Dec  2011\n",
       "2013-03-30     1092.932   20.545      NaN         NaN  03-Mar  2013\n",
       "2013-03-31     1002.856   39.624      NaN         NaN  03-Mar  2013\n",
       "2014-03-12     1516.331      NaN  148.507         NaN  03-Mar  2014\n",
       "2014-03-29     1243.377   68.398      NaN         NaN  03-Mar  2014\n",
       "2014-03-30     1125.085   18.572      NaN         NaN  03-Mar  2014"
      ]
     },
     "execution_count": 46,
     "metadata": {},
     "output_type": "execute_result"
    }
   ],
   "source": [
    "df[df.wind_solar.isna()].tail(10)"
   ]
  },
  {
   "cell_type": "code",
   "execution_count": 47,
   "id": "4338865a",
   "metadata": {},
   "outputs": [
    {
     "data": {
      "text/html": [
       "<div>\n",
       "<style scoped>\n",
       "    .dataframe tbody tr th:only-of-type {\n",
       "        vertical-align: middle;\n",
       "    }\n",
       "\n",
       "    .dataframe tbody tr th {\n",
       "        vertical-align: top;\n",
       "    }\n",
       "\n",
       "    .dataframe thead th {\n",
       "        text-align: right;\n",
       "    }\n",
       "</style>\n",
       "<table border=\"1\" class=\"dataframe\">\n",
       "  <thead>\n",
       "    <tr style=\"text-align: right;\">\n",
       "      <th></th>\n",
       "      <th>Consumption</th>\n",
       "      <th>wind</th>\n",
       "      <th>solar</th>\n",
       "      <th>wind_solar</th>\n",
       "      <th>month</th>\n",
       "      <th>year</th>\n",
       "    </tr>\n",
       "    <tr>\n",
       "      <th>Date</th>\n",
       "      <th></th>\n",
       "      <th></th>\n",
       "      <th></th>\n",
       "      <th></th>\n",
       "      <th></th>\n",
       "      <th></th>\n",
       "    </tr>\n",
       "  </thead>\n",
       "  <tbody>\n",
       "    <tr>\n",
       "      <th>2014-03-01</th>\n",
       "      <td>1310.863</td>\n",
       "      <td>42.380</td>\n",
       "      <td>74.222</td>\n",
       "      <td>116.602</td>\n",
       "      <td>03-Mar</td>\n",
       "      <td>2014</td>\n",
       "    </tr>\n",
       "    <tr>\n",
       "      <th>2014-03-02</th>\n",
       "      <td>1205.382</td>\n",
       "      <td>79.034</td>\n",
       "      <td>58.509</td>\n",
       "      <td>137.543</td>\n",
       "      <td>03-Mar</td>\n",
       "      <td>2014</td>\n",
       "    </tr>\n",
       "    <tr>\n",
       "      <th>2014-03-03</th>\n",
       "      <td>1479.361</td>\n",
       "      <td>174.177</td>\n",
       "      <td>83.837</td>\n",
       "      <td>258.014</td>\n",
       "      <td>03-Mar</td>\n",
       "      <td>2014</td>\n",
       "    </tr>\n",
       "    <tr>\n",
       "      <th>2014-03-04</th>\n",
       "      <td>1521.878</td>\n",
       "      <td>19.160</td>\n",
       "      <td>70.862</td>\n",
       "      <td>90.022</td>\n",
       "      <td>03-Mar</td>\n",
       "      <td>2014</td>\n",
       "    </tr>\n",
       "    <tr>\n",
       "      <th>2014-03-05</th>\n",
       "      <td>1550.944</td>\n",
       "      <td>18.679</td>\n",
       "      <td>74.279</td>\n",
       "      <td>92.958</td>\n",
       "      <td>03-Mar</td>\n",
       "      <td>2014</td>\n",
       "    </tr>\n",
       "    <tr>\n",
       "      <th>2014-03-06</th>\n",
       "      <td>1546.473</td>\n",
       "      <td>54.556</td>\n",
       "      <td>91.283</td>\n",
       "      <td>145.839</td>\n",
       "      <td>03-Mar</td>\n",
       "      <td>2014</td>\n",
       "    </tr>\n",
       "    <tr>\n",
       "      <th>2014-03-07</th>\n",
       "      <td>1514.897</td>\n",
       "      <td>114.278</td>\n",
       "      <td>120.060</td>\n",
       "      <td>234.338</td>\n",
       "      <td>03-Mar</td>\n",
       "      <td>2014</td>\n",
       "    </tr>\n",
       "    <tr>\n",
       "      <th>2014-03-08</th>\n",
       "      <td>1279.162</td>\n",
       "      <td>107.357</td>\n",
       "      <td>131.284</td>\n",
       "      <td>238.641</td>\n",
       "      <td>03-Mar</td>\n",
       "      <td>2014</td>\n",
       "    </tr>\n",
       "    <tr>\n",
       "      <th>2014-03-09</th>\n",
       "      <td>1161.496</td>\n",
       "      <td>175.888</td>\n",
       "      <td>145.585</td>\n",
       "      <td>321.473</td>\n",
       "      <td>03-Mar</td>\n",
       "      <td>2014</td>\n",
       "    </tr>\n",
       "    <tr>\n",
       "      <th>2014-03-10</th>\n",
       "      <td>1479.230</td>\n",
       "      <td>94.246</td>\n",
       "      <td>145.402</td>\n",
       "      <td>239.648</td>\n",
       "      <td>03-Mar</td>\n",
       "      <td>2014</td>\n",
       "    </tr>\n",
       "    <tr>\n",
       "      <th>2014-03-11</th>\n",
       "      <td>1521.112</td>\n",
       "      <td>113.199</td>\n",
       "      <td>138.730</td>\n",
       "      <td>251.929</td>\n",
       "      <td>03-Mar</td>\n",
       "      <td>2014</td>\n",
       "    </tr>\n",
       "    <tr>\n",
       "      <th>2014-03-12</th>\n",
       "      <td>1516.331</td>\n",
       "      <td>NaN</td>\n",
       "      <td>148.507</td>\n",
       "      <td>NaN</td>\n",
       "      <td>03-Mar</td>\n",
       "      <td>2014</td>\n",
       "    </tr>\n",
       "    <tr>\n",
       "      <th>2014-03-13</th>\n",
       "      <td>1510.033</td>\n",
       "      <td>22.425</td>\n",
       "      <td>147.203</td>\n",
       "      <td>169.628</td>\n",
       "      <td>03-Mar</td>\n",
       "      <td>2014</td>\n",
       "    </tr>\n",
       "    <tr>\n",
       "      <th>2014-03-14</th>\n",
       "      <td>1488.044</td>\n",
       "      <td>122.019</td>\n",
       "      <td>135.133</td>\n",
       "      <td>257.152</td>\n",
       "      <td>03-Mar</td>\n",
       "      <td>2014</td>\n",
       "    </tr>\n",
       "    <tr>\n",
       "      <th>2014-03-15</th>\n",
       "      <td>1303.214</td>\n",
       "      <td>510.579</td>\n",
       "      <td>46.959</td>\n",
       "      <td>557.538</td>\n",
       "      <td>03-Mar</td>\n",
       "      <td>2014</td>\n",
       "    </tr>\n",
       "    <tr>\n",
       "      <th>2014-03-16</th>\n",
       "      <td>1199.315</td>\n",
       "      <td>538.519</td>\n",
       "      <td>33.936</td>\n",
       "      <td>572.455</td>\n",
       "      <td>03-Mar</td>\n",
       "      <td>2014</td>\n",
       "    </tr>\n",
       "    <tr>\n",
       "      <th>2014-03-17</th>\n",
       "      <td>1498.042</td>\n",
       "      <td>354.408</td>\n",
       "      <td>84.790</td>\n",
       "      <td>439.198</td>\n",
       "      <td>03-Mar</td>\n",
       "      <td>2014</td>\n",
       "    </tr>\n",
       "    <tr>\n",
       "      <th>2014-03-18</th>\n",
       "      <td>1528.932</td>\n",
       "      <td>215.012</td>\n",
       "      <td>78.960</td>\n",
       "      <td>293.972</td>\n",
       "      <td>03-Mar</td>\n",
       "      <td>2014</td>\n",
       "    </tr>\n",
       "    <tr>\n",
       "      <th>2014-03-19</th>\n",
       "      <td>1524.762</td>\n",
       "      <td>405.654</td>\n",
       "      <td>66.495</td>\n",
       "      <td>472.149</td>\n",
       "      <td>03-Mar</td>\n",
       "      <td>2014</td>\n",
       "    </tr>\n",
       "    <tr>\n",
       "      <th>2014-03-20</th>\n",
       "      <td>1498.548</td>\n",
       "      <td>311.326</td>\n",
       "      <td>160.777</td>\n",
       "      <td>472.103</td>\n",
       "      <td>03-Mar</td>\n",
       "      <td>2014</td>\n",
       "    </tr>\n",
       "    <tr>\n",
       "      <th>2014-03-21</th>\n",
       "      <td>1474.562</td>\n",
       "      <td>289.345</td>\n",
       "      <td>114.934</td>\n",
       "      <td>404.279</td>\n",
       "      <td>03-Mar</td>\n",
       "      <td>2014</td>\n",
       "    </tr>\n",
       "    <tr>\n",
       "      <th>2014-03-22</th>\n",
       "      <td>1280.873</td>\n",
       "      <td>147.024</td>\n",
       "      <td>63.536</td>\n",
       "      <td>210.560</td>\n",
       "      <td>03-Mar</td>\n",
       "      <td>2014</td>\n",
       "    </tr>\n",
       "    <tr>\n",
       "      <th>2014-03-23</th>\n",
       "      <td>1176.870</td>\n",
       "      <td>71.096</td>\n",
       "      <td>59.828</td>\n",
       "      <td>130.924</td>\n",
       "      <td>03-Mar</td>\n",
       "      <td>2014</td>\n",
       "    </tr>\n",
       "    <tr>\n",
       "      <th>2014-03-24</th>\n",
       "      <td>1499.180</td>\n",
       "      <td>27.402</td>\n",
       "      <td>84.584</td>\n",
       "      <td>111.986</td>\n",
       "      <td>03-Mar</td>\n",
       "      <td>2014</td>\n",
       "    </tr>\n",
       "    <tr>\n",
       "      <th>2014-03-25</th>\n",
       "      <td>1521.834</td>\n",
       "      <td>39.216</td>\n",
       "      <td>107.847</td>\n",
       "      <td>147.063</td>\n",
       "      <td>03-Mar</td>\n",
       "      <td>2014</td>\n",
       "    </tr>\n",
       "    <tr>\n",
       "      <th>2014-03-26</th>\n",
       "      <td>1522.582</td>\n",
       "      <td>94.095</td>\n",
       "      <td>131.795</td>\n",
       "      <td>225.890</td>\n",
       "      <td>03-Mar</td>\n",
       "      <td>2014</td>\n",
       "    </tr>\n",
       "    <tr>\n",
       "      <th>2014-03-27</th>\n",
       "      <td>1510.903</td>\n",
       "      <td>192.194</td>\n",
       "      <td>156.117</td>\n",
       "      <td>348.311</td>\n",
       "      <td>03-Mar</td>\n",
       "      <td>2014</td>\n",
       "    </tr>\n",
       "    <tr>\n",
       "      <th>2014-03-28</th>\n",
       "      <td>1470.810</td>\n",
       "      <td>110.056</td>\n",
       "      <td>121.595</td>\n",
       "      <td>231.651</td>\n",
       "      <td>03-Mar</td>\n",
       "      <td>2014</td>\n",
       "    </tr>\n",
       "    <tr>\n",
       "      <th>2014-03-29</th>\n",
       "      <td>1243.377</td>\n",
       "      <td>68.398</td>\n",
       "      <td>NaN</td>\n",
       "      <td>NaN</td>\n",
       "      <td>03-Mar</td>\n",
       "      <td>2014</td>\n",
       "    </tr>\n",
       "    <tr>\n",
       "      <th>2014-03-30</th>\n",
       "      <td>1125.085</td>\n",
       "      <td>18.572</td>\n",
       "      <td>NaN</td>\n",
       "      <td>NaN</td>\n",
       "      <td>03-Mar</td>\n",
       "      <td>2014</td>\n",
       "    </tr>\n",
       "    <tr>\n",
       "      <th>2014-03-31</th>\n",
       "      <td>1446.114</td>\n",
       "      <td>14.138</td>\n",
       "      <td>112.798</td>\n",
       "      <td>126.936</td>\n",
       "      <td>03-Mar</td>\n",
       "      <td>2014</td>\n",
       "    </tr>\n",
       "  </tbody>\n",
       "</table>\n",
       "</div>"
      ],
      "text/plain": [
       "            Consumption     wind    solar  wind_solar   month  year\n",
       "Date                                                               \n",
       "2014-03-01     1310.863   42.380   74.222     116.602  03-Mar  2014\n",
       "2014-03-02     1205.382   79.034   58.509     137.543  03-Mar  2014\n",
       "2014-03-03     1479.361  174.177   83.837     258.014  03-Mar  2014\n",
       "2014-03-04     1521.878   19.160   70.862      90.022  03-Mar  2014\n",
       "2014-03-05     1550.944   18.679   74.279      92.958  03-Mar  2014\n",
       "2014-03-06     1546.473   54.556   91.283     145.839  03-Mar  2014\n",
       "2014-03-07     1514.897  114.278  120.060     234.338  03-Mar  2014\n",
       "2014-03-08     1279.162  107.357  131.284     238.641  03-Mar  2014\n",
       "2014-03-09     1161.496  175.888  145.585     321.473  03-Mar  2014\n",
       "2014-03-10     1479.230   94.246  145.402     239.648  03-Mar  2014\n",
       "2014-03-11     1521.112  113.199  138.730     251.929  03-Mar  2014\n",
       "2014-03-12     1516.331      NaN  148.507         NaN  03-Mar  2014\n",
       "2014-03-13     1510.033   22.425  147.203     169.628  03-Mar  2014\n",
       "2014-03-14     1488.044  122.019  135.133     257.152  03-Mar  2014\n",
       "2014-03-15     1303.214  510.579   46.959     557.538  03-Mar  2014\n",
       "2014-03-16     1199.315  538.519   33.936     572.455  03-Mar  2014\n",
       "2014-03-17     1498.042  354.408   84.790     439.198  03-Mar  2014\n",
       "2014-03-18     1528.932  215.012   78.960     293.972  03-Mar  2014\n",
       "2014-03-19     1524.762  405.654   66.495     472.149  03-Mar  2014\n",
       "2014-03-20     1498.548  311.326  160.777     472.103  03-Mar  2014\n",
       "2014-03-21     1474.562  289.345  114.934     404.279  03-Mar  2014\n",
       "2014-03-22     1280.873  147.024   63.536     210.560  03-Mar  2014\n",
       "2014-03-23     1176.870   71.096   59.828     130.924  03-Mar  2014\n",
       "2014-03-24     1499.180   27.402   84.584     111.986  03-Mar  2014\n",
       "2014-03-25     1521.834   39.216  107.847     147.063  03-Mar  2014\n",
       "2014-03-26     1522.582   94.095  131.795     225.890  03-Mar  2014\n",
       "2014-03-27     1510.903  192.194  156.117     348.311  03-Mar  2014\n",
       "2014-03-28     1470.810  110.056  121.595     231.651  03-Mar  2014\n",
       "2014-03-29     1243.377   68.398      NaN         NaN  03-Mar  2014\n",
       "2014-03-30     1125.085   18.572      NaN         NaN  03-Mar  2014\n",
       "2014-03-31     1446.114   14.138  112.798     126.936  03-Mar  2014"
      ]
     },
     "execution_count": 47,
     "metadata": {},
     "output_type": "execute_result"
    }
   ],
   "source": [
    "#Let's look at march 2014\n",
    "df.loc['2014-03']"
   ]
  },
  {
   "cell_type": "markdown",
   "id": "59cc82e5",
   "metadata": {},
   "source": [
    "**NULL NOTES:**\n",
    "- Wind can be Zero through the end of 2009, then has two null values (2011-12-14, 2014-03-12)\n",
    "- Solar can be Zero through the end of 2011, then has four null values (2013-03-30, 2013-03-31, 2014-03-29, 2014-03-30)\n",
    "- Wind_Solar has nulls whenever wind or solar has a null"
   ]
  },
  {
   "cell_type": "code",
   "execution_count": 48,
   "id": "03f23984",
   "metadata": {},
   "outputs": [],
   "source": [
    "#Now check if wind+solar is just an additive column\n",
    "df2 = df.loc[\"2015-01-01\":]"
   ]
  },
  {
   "cell_type": "code",
   "execution_count": 49,
   "id": "7e53c729",
   "metadata": {},
   "outputs": [
    {
     "data": {
      "text/plain": [
       "1.0"
      ]
     },
     "execution_count": 49,
     "metadata": {},
     "output_type": "execute_result"
    }
   ],
   "source": [
    "(round(df2.wind_solar) == round(df2.wind + df2.solar)).mean() #so these columns are the same (if you round)"
   ]
  },
  {
   "cell_type": "code",
   "execution_count": 50,
   "id": "b0831d52",
   "metadata": {},
   "outputs": [],
   "source": [
    "#Okay, we're good to just add zeros for all nulls in wind and solar, then just recreate the wind/solar column\n",
    "df.fillna(0,inplace=True)\n",
    "df.wind_solar = df.wind + df.solar"
   ]
  },
  {
   "cell_type": "code",
   "execution_count": 51,
   "id": "8acae21b",
   "metadata": {},
   "outputs": [
    {
     "name": "stdout",
     "output_type": "stream",
     "text": [
      "<class 'pandas.core.frame.DataFrame'>\n",
      "DatetimeIndex: 4383 entries, 2006-01-01 to 2017-12-31\n",
      "Data columns (total 6 columns):\n",
      " #   Column       Non-Null Count  Dtype  \n",
      "---  ------       --------------  -----  \n",
      " 0   Consumption  4383 non-null   float64\n",
      " 1   wind         4383 non-null   float64\n",
      " 2   solar        4383 non-null   float64\n",
      " 3   wind_solar   4383 non-null   float64\n",
      " 4   month        4383 non-null   object \n",
      " 5   year         4383 non-null   int64  \n",
      "dtypes: float64(4), int64(1), object(1)\n",
      "memory usage: 368.7+ KB\n"
     ]
    }
   ],
   "source": [
    "df.info()"
   ]
  },
  {
   "cell_type": "markdown",
   "id": "be3d262f",
   "metadata": {},
   "source": [
    "##### Drop into a function - BOOYAH"
   ]
  },
  {
   "cell_type": "code",
   "execution_count": 52,
   "id": "a3b1a6ac",
   "metadata": {},
   "outputs": [],
   "source": [
    "def prep_OPSD_data(df):\n",
    "    #Convert date to datetime and set as index\n",
    "    df.Date = pd.to_datetime(df.Date,format=\"%Y-%m-%d\")\n",
    "    df = df.set_index('Date').sort_index()\n",
    "    #Create month and year column\n",
    "    df['month'] = df.index.strftime(date_format=\"%m-%b\")\n",
    "    df['year'] = df.index.year\n",
    "    #Rename other columns\n",
    "    df.rename(columns={\"Wind+Solar\":\"wind_solar\",\"Wind\":\"wind\",\"Solar\":\"solar\"},inplace=True)\n",
    "    #fill nulls as zero\n",
    "    df.fillna(0,inplace=True)\n",
    "    #recalculate wind_solar\n",
    "    df.wind_solar = df.wind + df.solar\n",
    "    return df"
   ]
  },
  {
   "cell_type": "markdown",
   "id": "7032fec9",
   "metadata": {},
   "source": [
    "#### OPSD Function Testing <a class=\"anchor\" id=\"opsdfunc\" />"
   ]
  },
  {
   "cell_type": "code",
   "execution_count": 55,
   "id": "9595b9f4",
   "metadata": {},
   "outputs": [],
   "source": [
    "df = acq.get_OPSD_data()\n",
    "df = prep_OPSD_data(df)"
   ]
  },
  {
   "cell_type": "code",
   "execution_count": 56,
   "id": "c5a9a4bb",
   "metadata": {},
   "outputs": [
    {
     "name": "stdout",
     "output_type": "stream",
     "text": [
      "<class 'pandas.core.frame.DataFrame'>\n",
      "DatetimeIndex: 4383 entries, 2006-01-01 to 2017-12-31\n",
      "Data columns (total 6 columns):\n",
      " #   Column       Non-Null Count  Dtype  \n",
      "---  ------       --------------  -----  \n",
      " 0   Consumption  4383 non-null   float64\n",
      " 1   wind         4383 non-null   float64\n",
      " 2   solar        4383 non-null   float64\n",
      " 3   wind_solar   4383 non-null   float64\n",
      " 4   month        4383 non-null   object \n",
      " 5   year         4383 non-null   int64  \n",
      "dtypes: float64(4), int64(1), object(1)\n",
      "memory usage: 239.7+ KB\n"
     ]
    }
   ],
   "source": [
    "df.info()"
   ]
  },
  {
   "cell_type": "code",
   "execution_count": 57,
   "id": "3505b6d7",
   "metadata": {},
   "outputs": [
    {
     "data": {
      "text/html": [
       "<div>\n",
       "<style scoped>\n",
       "    .dataframe tbody tr th:only-of-type {\n",
       "        vertical-align: middle;\n",
       "    }\n",
       "\n",
       "    .dataframe tbody tr th {\n",
       "        vertical-align: top;\n",
       "    }\n",
       "\n",
       "    .dataframe thead th {\n",
       "        text-align: right;\n",
       "    }\n",
       "</style>\n",
       "<table border=\"1\" class=\"dataframe\">\n",
       "  <thead>\n",
       "    <tr style=\"text-align: right;\">\n",
       "      <th></th>\n",
       "      <th>Consumption</th>\n",
       "      <th>wind</th>\n",
       "      <th>solar</th>\n",
       "      <th>wind_solar</th>\n",
       "      <th>month</th>\n",
       "      <th>year</th>\n",
       "    </tr>\n",
       "    <tr>\n",
       "      <th>Date</th>\n",
       "      <th></th>\n",
       "      <th></th>\n",
       "      <th></th>\n",
       "      <th></th>\n",
       "      <th></th>\n",
       "      <th></th>\n",
       "    </tr>\n",
       "  </thead>\n",
       "  <tbody>\n",
       "    <tr>\n",
       "      <th>2006-01-01</th>\n",
       "      <td>1069.184</td>\n",
       "      <td>0.0</td>\n",
       "      <td>0.0</td>\n",
       "      <td>0.0</td>\n",
       "      <td>01-Jan</td>\n",
       "      <td>2006</td>\n",
       "    </tr>\n",
       "    <tr>\n",
       "      <th>2006-01-02</th>\n",
       "      <td>1380.521</td>\n",
       "      <td>0.0</td>\n",
       "      <td>0.0</td>\n",
       "      <td>0.0</td>\n",
       "      <td>01-Jan</td>\n",
       "      <td>2006</td>\n",
       "    </tr>\n",
       "    <tr>\n",
       "      <th>2006-01-03</th>\n",
       "      <td>1442.533</td>\n",
       "      <td>0.0</td>\n",
       "      <td>0.0</td>\n",
       "      <td>0.0</td>\n",
       "      <td>01-Jan</td>\n",
       "      <td>2006</td>\n",
       "    </tr>\n",
       "    <tr>\n",
       "      <th>2006-01-04</th>\n",
       "      <td>1457.217</td>\n",
       "      <td>0.0</td>\n",
       "      <td>0.0</td>\n",
       "      <td>0.0</td>\n",
       "      <td>01-Jan</td>\n",
       "      <td>2006</td>\n",
       "    </tr>\n",
       "    <tr>\n",
       "      <th>2006-01-05</th>\n",
       "      <td>1477.131</td>\n",
       "      <td>0.0</td>\n",
       "      <td>0.0</td>\n",
       "      <td>0.0</td>\n",
       "      <td>01-Jan</td>\n",
       "      <td>2006</td>\n",
       "    </tr>\n",
       "  </tbody>\n",
       "</table>\n",
       "</div>"
      ],
      "text/plain": [
       "            Consumption  wind  solar  wind_solar   month  year\n",
       "Date                                                          \n",
       "2006-01-01     1069.184   0.0    0.0         0.0  01-Jan  2006\n",
       "2006-01-02     1380.521   0.0    0.0         0.0  01-Jan  2006\n",
       "2006-01-03     1442.533   0.0    0.0         0.0  01-Jan  2006\n",
       "2006-01-04     1457.217   0.0    0.0         0.0  01-Jan  2006\n",
       "2006-01-05     1477.131   0.0    0.0         0.0  01-Jan  2006"
      ]
     },
     "execution_count": 57,
     "metadata": {},
     "output_type": "execute_result"
    }
   ],
   "source": [
    "df.head()"
   ]
  }
 ],
 "metadata": {
  "kernelspec": {
   "display_name": "Python 3 (ipykernel)",
   "language": "python",
   "name": "python3"
  },
  "language_info": {
   "codemirror_mode": {
    "name": "ipython",
    "version": 3
   },
   "file_extension": ".py",
   "mimetype": "text/x-python",
   "name": "python",
   "nbconvert_exporter": "python",
   "pygments_lexer": "ipython3",
   "version": "3.9.7"
  }
 },
 "nbformat": 4,
 "nbformat_minor": 5
}
